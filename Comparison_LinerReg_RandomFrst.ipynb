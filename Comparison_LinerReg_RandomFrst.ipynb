{
 "cells": [
  {
   "cell_type": "code",
   "execution_count": 1,
   "metadata": {},
   "outputs": [],
   "source": [
    "import arff, numpy as np\n",
    "import pandas as pd\n",
    "from sklearn.ensemble import RandomForestClassifier\n",
    "from sklearn import preprocessing\n",
    "import matplotlib.pyplot as plt\n",
    "import numpy as np"
   ]
  },
  {
   "cell_type": "code",
   "execution_count": 2,
   "metadata": {},
   "outputs": [],
   "source": [
    "dataset = arff.load(open('cocomo811.arff'))\n",
    "data=np.array(dataset['data'])"
   ]
  },
  {
   "cell_type": "code",
   "execution_count": 3,
   "metadata": {},
   "outputs": [
    {
     "data": {
      "text/plain": [
       "(63, 17)"
      ]
     },
     "execution_count": 3,
     "metadata": {},
     "output_type": "execute_result"
    }
   ],
   "source": [
    "data.shape\n"
   ]
  },
  {
   "cell_type": "code",
   "execution_count": 4,
   "metadata": {},
   "outputs": [],
   "source": [
    "X=data[:,0:16]\n",
    "Y=data[:,16:17]"
   ]
  },
  {
   "cell_type": "code",
   "execution_count": 5,
   "metadata": {},
   "outputs": [],
   "source": [
    "Y=Y.reshape(63)"
   ]
  },
  {
   "cell_type": "code",
   "execution_count": 6,
   "metadata": {},
   "outputs": [],
   "source": [
    "from sklearn.model_selection import train_test_split\n",
    "X_train, X_test, y_train, y_test = train_test_split(\n",
    "    X, Y, test_size=0.30, random_state=42)\n",
    "from sklearn import preprocessing\n",
    "lab_enc = preprocessing.LabelEncoder()\n",
    "training_scores_encoded = lab_enc.fit_transform(y_train)"
   ]
  },
  {
   "cell_type": "code",
   "execution_count": 7,
   "metadata": {},
   "outputs": [],
   "source": [
    "MMRE_list=[]\n",
    "MdMRE_list=[]\n",
    "Pred_list= []\n",
    "for i in np.arange(1,11):   \n",
    "    clf= RandomForestClassifier(n_estimators=100,max_features=i)\n",
    "    clf.fit(X_train, training_scores_encoded)\n",
    "    Y_pred=clf.predict(X_test)\n",
    "    diff=np.absolute(y_test-Y_pred)\n",
    "    MRE=diff/y_test\n",
    "    MMRE=np.mean(MRE)\n",
    "    MdMRE=np.median(MRE)\n",
    "    P=MRE[MRE<.25]\n",
    "    Pred=(P.size/MRE.size) * 100\n",
    "    MMRE_list.append(MMRE)\n",
    "    MdMRE_list.append(MdMRE)\n",
    "    Pred_list.append(Pred)"
   ]
  },
  {
   "cell_type": "code",
   "execution_count": 8,
   "metadata": {},
   "outputs": [
    {
     "data": {
      "text/plain": [
       "[0.8191628522560052,\n",
       " 0.8167810664161552,\n",
       " 0.8266952733946559,\n",
       " 0.8224046398769348,\n",
       " 0.7995433864474922,\n",
       " 0.8098648409339096,\n",
       " 0.8273091632211803,\n",
       " 0.8532167684259131,\n",
       " 0.8502297799004133,\n",
       " 0.845698095057094]"
      ]
     },
     "execution_count": 8,
     "metadata": {},
     "output_type": "execute_result"
    }
   ],
   "source": [
    "MMRE_list"
   ]
  },
  {
   "cell_type": "code",
   "execution_count": 9,
   "metadata": {},
   "outputs": [
    {
     "data": {
      "text/plain": [
       "[5.263157894736842,\n",
       " 5.263157894736842,\n",
       " 5.263157894736842,\n",
       " 5.263157894736842,\n",
       " 10.526315789473683,\n",
       " 10.526315789473683,\n",
       " 5.263157894736842,\n",
       " 5.263157894736842,\n",
       " 5.263157894736842,\n",
       " 5.263157894736842]"
      ]
     },
     "execution_count": 9,
     "metadata": {},
     "output_type": "execute_result"
    }
   ],
   "source": [
    "Pred_list"
   ]
  },
  {
   "cell_type": "code",
   "execution_count": 10,
   "metadata": {},
   "outputs": [
    {
     "data": {
      "image/png": "[encoded data removed]",
      "text/plain": [
       "<Figure size 432x288 with 1 Axes>"
      ]
     },
     "metadata": {
      "needs_background": "light"
     },
     "output_type": "display_data"
    }
   ],
   "source": [
    "x = np.arange(1,11)\n",
    "\n",
    "plt.plot(x, MMRE_list)\n",
    "plt.plot(x, Pred_list)\n",
    "\n",
    "plt.legend(['MMRE', 'PRED(.25)'], loc='upper right')\n",
    "\n",
    "plt.show()"
   ]
  },
  {
   "cell_type": "code",
   "execution_count": 11,
   "metadata": {},
   "outputs": [],
   "source": [
    "MMRE_list=[]\n",
    "MdMRE_list=[]\n",
    "Pred_list= []\n",
    "for i in np.arange(100,2000,100):   \n",
    "    clf= RandomForestClassifier(n_estimators=i,max_features=7)\n",
    "    clf.fit(X_train, training_scores_encoded)\n",
    "    Y_pred=clf.predict(X_test)\n",
    "    diff=np.absolute(y_test-Y_pred)\n",
    "    MRE=diff/y_test\n",
    "    MMRE=np.mean(MRE)\n",
    "    MdMRE=np.median(MRE)\n",
    "    P=MRE[MRE<.25]\n",
    "    Pred=(P.size/MRE.size) * 100\n",
    "    MMRE_list.append(MMRE)\n",
    "    MdMRE_list.append(MdMRE)\n",
    "    Pred_list.append(Pred)"
   ]
  },
  {
   "cell_type": "code",
   "execution_count": 12,
   "metadata": {},
   "outputs": [
    {
     "data": {
      "image/png": "[encoded data removed]",
      "text/plain": [
       "<Figure size 432x288 with 1 Axes>"
      ]
     },
     "metadata": {
      "needs_background": "light"
     },
     "output_type": "display_data"
    }
   ],
   "source": [
    "x = np.arange(100,2000,100)\n",
    "\n",
    "plt.plot(x, MMRE_list)\n",
    "plt.plot(x, Pred_list)\n",
    "\n",
    "plt.legend(['MMRE', 'PRED(.25)'], loc='upper right')\n",
    "\n",
    "plt.show()"
   ]
  },
  {
   "cell_type": "code",
   "execution_count": 60,
   "metadata": {},
   "outputs": [
    {
     "data": {
      "text/plain": [
       "[0.8385882830375305,\n",
       " 0.8286124783212316,\n",
       " 0.857380862101287,\n",
       " 0.8430833852055422,\n",
       " 0.8573900957116285,\n",
       " 0.8194859276694129,\n",
       " 0.8112446504287296,\n",
       " 0.8601608890918403,\n",
       " 0.857380862101287,\n",
       " 0.857380862101287,\n",
       " 0.8556357097467163,\n",
       " 0.8448377711704543,\n",
       " 0.842057744179901,\n",
       " 0.8577409729046109,\n",
       " 0.8580602427391163,\n",
       " 0.842057744179901,\n",
       " 0.8580602427391163,\n",
       " 0.8556264761363745,\n",
       " 0.8403033582149887]"
      ]
     },
     "execution_count": 60,
     "metadata": {},
     "output_type": "execute_result"
    }
   ],
   "source": [
    "MMRE_list"
   ]
  },
  {
   "cell_type": "code",
   "execution_count": 13,
   "metadata": {},
   "outputs": [
    {
     "data": {
      "text/plain": [
       "[5.263157894736842,\n",
       " 5.263157894736842,\n",
       " 5.263157894736842,\n",
       " 5.263157894736842,\n",
       " 5.263157894736842,\n",
       " 5.263157894736842,\n",
       " 5.263157894736842,\n",
       " 5.263157894736842,\n",
       " 5.263157894736842,\n",
       " 5.263157894736842,\n",
       " 5.263157894736842,\n",
       " 5.263157894736842,\n",
       " 5.263157894736842,\n",
       " 5.263157894736842,\n",
       " 5.263157894736842,\n",
       " 5.263157894736842,\n",
       " 5.263157894736842,\n",
       " 5.263157894736842,\n",
       " 5.263157894736842]"
      ]
     },
     "execution_count": 13,
     "metadata": {},
     "output_type": "execute_result"
    }
   ],
   "source": [
    "Pred_list"
   ]
  },
  {
   "cell_type": "code",
   "execution_count": 20,
   "metadata": {},
   "outputs": [
    {
     "data": {
      "image/png": "[encoded data removed]",
      "text/plain": [
       "<Figure size 432x288 with 1 Axes>"
      ]
     },
     "metadata": {
      "needs_background": "light"
     },
     "output_type": "display_data"
    }
   ],
   "source": [
    "import numpy as np\n",
    "import matplotlib.pyplot as plt\n",
    " \n",
    "# data to plot\n",
    "n_groups = 3\n",
    "RT = (.840, .877, 0.756)\n",
    "RF = (.493, .821, 0.751)\n",
    " \n",
    "# create plot\n",
    "fig, ax = plt.subplots()\n",
    "index = np.arange(n_groups)\n",
    "bar_width = 0.35\n",
    "opacity = 0.8\n",
    " \n",
    "rects1 = plt.bar(index, RT, bar_width,\n",
    "alpha=opacity,\n",
    "color='b',\n",
    "label='Regression Tree')\n",
    " \n",
    "rects2 = plt.bar(index + bar_width+.05, RF, bar_width,\n",
    "alpha=opacity,\n",
    "color='g',\n",
    "label='Random Forest')\n",
    " \n",
    "plt.xlabel('Datasets')\n",
    "plt.ylabel('MMRE')\n",
    "#plt.title('Scores by person')\n",
    "plt.xticks(index + bar_width, ('Albrecht', 'Desharnais', 'COCOMO81'))\n",
    "plt.legend()\n",
    " \n",
    "plt.tight_layout()\n",
    "plt.show()\n"
   ]
  },
  {
   "cell_type": "code",
   "execution_count": 22,
   "metadata": {},
   "outputs": [
    {
     "data": {
      "image/png": "[encoded data removed]",
      "text/plain": [
       "<Figure size 432x288 with 1 Axes>"
      ]
     },
     "metadata": {
      "needs_background": "light"
     },
     "output_type": "display_data"
    }
   ],
   "source": [
    "import numpy as np\n",
    "import matplotlib.pyplot as plt\n",
    " \n",
    "# data to plot\n",
    "n_groups = 3\n",
    "RT = (.472, .504, 0.83940)\n",
    "RF = (.465, .3291, 0.7836)\n",
    " \n",
    "# create plot\n",
    "fig, ax = plt.subplots()\n",
    "index = np.arange(n_groups)\n",
    "bar_width = 0.35\n",
    "opacity = 0.8\n",
    " \n",
    "rects1 = plt.bar(index, RT, bar_width,\n",
    "alpha=opacity,\n",
    "color='b',\n",
    "label='Regression Tree')\n",
    " \n",
    "rects2 = plt.bar(index + bar_width+.05, RF, bar_width,\n",
    "alpha=opacity,\n",
    "color='g',\n",
    "label='Random Forest')\n",
    " \n",
    "plt.xlabel('Datasets')\n",
    "plt.ylabel('MdMRE')\n",
    "#plt.title('Scores by person')\n",
    "plt.xticks(index + bar_width, ('Albrecht', 'Desharnais', 'COCOMO81'))\n",
    "plt.legend()\n",
    " \n",
    "plt.tight_layout()\n",
    "plt.show()\n"
   ]
  },
  {
   "cell_type": "code",
   "execution_count": 23,
   "metadata": {},
   "outputs": [
    {
     "data": {
      "image/png": "[encoded data removed]",
      "text/plain": [
       "<Figure size 432x288 with 1 Axes>"
      ]
     },
     "metadata": {
      "needs_background": "light"
     },
     "output_type": "display_data"
    }
   ],
   "source": [
    "import numpy as np\n",
    "import matplotlib.pyplot as plt\n",
    " \n",
    "# data to plot\n",
    "n_groups = 3\n",
    "RT = (25, 36, 5.26)\n",
    "RF = (25, 40, 5.26)\n",
    " \n",
    "# create plot\n",
    "fig, ax = plt.subplots()\n",
    "index = np.arange(n_groups)\n",
    "bar_width = 0.35\n",
    "opacity = 0.8\n",
    " \n",
    "rects1 = plt.bar(index, RT, bar_width,\n",
    "alpha=opacity,\n",
    "color='b',\n",
    "label='Regression Tree')\n",
    " \n",
    "rects2 = plt.bar(index + bar_width+.05, RF, bar_width,\n",
    "alpha=opacity,\n",
    "color='g',\n",
    "label='Random Forest')\n",
    " \n",
    "plt.xlabel('Datasets')\n",
    "plt.ylabel('PRED(25)')\n",
    "#plt.title('Scores by person')\n",
    "plt.xticks(index + bar_width, ('Albrecht', 'Desharnais', 'COCOMO81'))\n",
    "plt.legend()\n",
    " \n",
    "plt.tight_layout()\n",
    "plt.show()"
   ]
  },
  {
   "cell_type": "code",
   "execution_count": null,
   "metadata": {},
   "outputs": [],
   "source": []
  }
 ],
 "metadata": {
  "kernelspec": {
   "display_name": "Python 3",
   "language": "python",
   "name": "python3"
  },
  "language_info": {
   "codemirror_mode": {
    "name": "ipython",
    "version": 3
   },
   "file_extension": ".py",
   "mimetype": "text/x-python",
   "name": "python",
   "nbconvert_exporter": "python",
   "pygments_lexer": "ipython3",
   "version": "3.7.1"
  }
 },
 "nbformat": 4,
 "nbformat_minor": 2
}
