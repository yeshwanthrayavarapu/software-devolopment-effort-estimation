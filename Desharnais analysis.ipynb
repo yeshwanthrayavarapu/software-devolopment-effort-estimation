{
 "cells": [
  {
   "cell_type": "code",
   "execution_count": 1,
   "metadata": {},
   "outputs": [
    {
     "ename": "ModuleNotFoundError",
     "evalue": "No module named 'arff'",
     "output_type": "error",
     "traceback": [
      "\u001b[1;31m---------------------------------------------------------------------------\u001b[0m",
      "\u001b[1;31mModuleNotFoundError\u001b[0m                       Traceback (most recent call last)",
      "\u001b[1;32m<ipython-input-1-ee7d33228724>\u001b[0m in \u001b[0;36m<module>\u001b[1;34m\u001b[0m\n\u001b[1;32m----> 1\u001b[1;33m \u001b[1;32mimport\u001b[0m \u001b[0marff\u001b[0m\u001b[1;33m,\u001b[0m \u001b[0mnumpy\u001b[0m \u001b[1;32mas\u001b[0m \u001b[0mnp\u001b[0m\u001b[1;33m\u001b[0m\u001b[1;33m\u001b[0m\u001b[0m\n\u001b[0m\u001b[0;32m      2\u001b[0m \u001b[1;32mimport\u001b[0m \u001b[0mpandas\u001b[0m \u001b[1;32mas\u001b[0m \u001b[0mpd\u001b[0m\u001b[1;33m\u001b[0m\u001b[1;33m\u001b[0m\u001b[0m\n\u001b[0;32m      3\u001b[0m \u001b[1;32mimport\u001b[0m \u001b[0mmatplotlib\u001b[0m\u001b[1;33m.\u001b[0m\u001b[0mpyplot\u001b[0m \u001b[1;32mas\u001b[0m \u001b[0mplt\u001b[0m\u001b[1;33m\u001b[0m\u001b[1;33m\u001b[0m\u001b[0m\n\u001b[0;32m      4\u001b[0m \u001b[1;32mfrom\u001b[0m \u001b[0msklearn\u001b[0m\u001b[1;33m.\u001b[0m\u001b[0mensemble\u001b[0m \u001b[1;32mimport\u001b[0m \u001b[0mRandomForestRegressor\u001b[0m\u001b[1;33m\u001b[0m\u001b[1;33m\u001b[0m\u001b[0m\n\u001b[0;32m      5\u001b[0m \u001b[1;32mfrom\u001b[0m \u001b[0msklearn\u001b[0m\u001b[1;33m.\u001b[0m\u001b[0mtree\u001b[0m \u001b[1;32mimport\u001b[0m \u001b[0mDecisionTreeRegressor\u001b[0m\u001b[1;33m\u001b[0m\u001b[1;33m\u001b[0m\u001b[0m\n",
      "\u001b[1;31mModuleNotFoundError\u001b[0m: No module named 'arff'"
     ]
    }
   ],
   "source": [
    "import arff, numpy as np\n",
    "import pandas as pd\n",
    "import matplotlib.pyplot as plt\n",
    "from sklearn.ensemble import RandomForestRegressor\n",
    "from sklearn.tree import DecisionTreeRegressor\n",
    "from sklearn.model_selection import train_test_split\n",
    "from sklearn import preprocessing\n",
    "from sklearn.model_selection import KFold,cross_val_score\n",
    "from sklearn.model_selection import GridSearchCV,RandomizedSearchCV\n",
    "\n"
   ]
  },
  {
   "cell_type": "code",
   "execution_count": 2,
   "metadata": {},
   "outputs": [
    {
     "data": {
      "text/html": [
       "<div>\n",
       "<style scoped>\n",
       "    .dataframe tbody tr th:only-of-type {\n",
       "        vertical-align: middle;\n",
       "    }\n",
       "\n",
       "    .dataframe tbody tr th {\n",
       "        vertical-align: top;\n",
       "    }\n",
       "\n",
       "    .dataframe thead th {\n",
       "        text-align: right;\n",
       "    }\n",
       "</style>\n",
       "<table border=\"1\" class=\"dataframe\">\n",
       "  <thead>\n",
       "    <tr style=\"text-align: right;\">\n",
       "      <th></th>\n",
       "      <th>id</th>\n",
       "      <th>Project</th>\n",
       "      <th>TeamExp</th>\n",
       "      <th>ManagerExp</th>\n",
       "      <th>YearEnd</th>\n",
       "      <th>Length</th>\n",
       "      <th>Effort</th>\n",
       "      <th>Transactions</th>\n",
       "      <th>Entities</th>\n",
       "      <th>PointsNonAdjust</th>\n",
       "      <th>Adjustment</th>\n",
       "      <th>PointsAjust</th>\n",
       "      <th>Language</th>\n",
       "    </tr>\n",
       "  </thead>\n",
       "  <tbody>\n",
       "    <tr>\n",
       "      <th>0</th>\n",
       "      <td>1</td>\n",
       "      <td>1</td>\n",
       "      <td>1</td>\n",
       "      <td>4</td>\n",
       "      <td>85</td>\n",
       "      <td>12</td>\n",
       "      <td>5152</td>\n",
       "      <td>253</td>\n",
       "      <td>52</td>\n",
       "      <td>305</td>\n",
       "      <td>34</td>\n",
       "      <td>302</td>\n",
       "      <td>1</td>\n",
       "    </tr>\n",
       "    <tr>\n",
       "      <th>1</th>\n",
       "      <td>2</td>\n",
       "      <td>2</td>\n",
       "      <td>0</td>\n",
       "      <td>0</td>\n",
       "      <td>86</td>\n",
       "      <td>4</td>\n",
       "      <td>5635</td>\n",
       "      <td>197</td>\n",
       "      <td>124</td>\n",
       "      <td>321</td>\n",
       "      <td>33</td>\n",
       "      <td>315</td>\n",
       "      <td>1</td>\n",
       "    </tr>\n",
       "    <tr>\n",
       "      <th>2</th>\n",
       "      <td>3</td>\n",
       "      <td>3</td>\n",
       "      <td>4</td>\n",
       "      <td>4</td>\n",
       "      <td>85</td>\n",
       "      <td>1</td>\n",
       "      <td>805</td>\n",
       "      <td>40</td>\n",
       "      <td>60</td>\n",
       "      <td>100</td>\n",
       "      <td>18</td>\n",
       "      <td>83</td>\n",
       "      <td>1</td>\n",
       "    </tr>\n",
       "    <tr>\n",
       "      <th>3</th>\n",
       "      <td>4</td>\n",
       "      <td>4</td>\n",
       "      <td>0</td>\n",
       "      <td>0</td>\n",
       "      <td>86</td>\n",
       "      <td>5</td>\n",
       "      <td>3829</td>\n",
       "      <td>200</td>\n",
       "      <td>119</td>\n",
       "      <td>319</td>\n",
       "      <td>30</td>\n",
       "      <td>303</td>\n",
       "      <td>1</td>\n",
       "    </tr>\n",
       "    <tr>\n",
       "      <th>4</th>\n",
       "      <td>5</td>\n",
       "      <td>5</td>\n",
       "      <td>0</td>\n",
       "      <td>0</td>\n",
       "      <td>86</td>\n",
       "      <td>4</td>\n",
       "      <td>2149</td>\n",
       "      <td>140</td>\n",
       "      <td>94</td>\n",
       "      <td>234</td>\n",
       "      <td>24</td>\n",
       "      <td>208</td>\n",
       "      <td>1</td>\n",
       "    </tr>\n",
       "  </tbody>\n",
       "</table>\n",
       "</div>"
      ],
      "text/plain": [
       "   id  Project  TeamExp  ManagerExp  YearEnd  Length  Effort  Transactions  \\\n",
       "0   1        1        1           4       85      12    5152           253   \n",
       "1   2        2        0           0       86       4    5635           197   \n",
       "2   3        3        4           4       85       1     805            40   \n",
       "3   4        4        0           0       86       5    3829           200   \n",
       "4   5        5        0           0       86       4    2149           140   \n",
       "\n",
       "   Entities  PointsNonAdjust  Adjustment  PointsAjust  Language  \n",
       "0        52              305          34          302         1  \n",
       "1       124              321          33          315         1  \n",
       "2        60              100          18           83         1  \n",
       "3       119              319          30          303         1  \n",
       "4        94              234          24          208         1  "
      ]
     },
     "execution_count": 2,
     "metadata": {},
     "output_type": "execute_result"
    }
   ],
   "source": [
    "df_desharnais = pd.read_csv('02.desharnais.csv',  header=0)\n",
    "df_desharnais.head()"
   ]
  },
  {
   "cell_type": "code",
   "execution_count": 6,
   "metadata": {},
   "outputs": [],
   "source": [
    "features = [ 'TeamExp', 'ManagerExp', 'Length', 'Transactions', 'Entities',\n",
    "        'PointsNonAdjust', 'Adjustment', 'PointsAjust']\n",
    "\n",
    "max_corr_features = ['Length', 'Transactions', 'Entities','PointsNonAdjust','PointsAjust']\n",
    "\n",
    "X = df_desharnais[features]\n",
    "Y = df_desharnais['Effort']"
   ]
  },
  {
   "cell_type": "markdown",
   "metadata": {},
   "source": [
    "# desharnais n_estimator=500 and max_features= 1 to 8"
   ]
  },
  {
   "cell_type": "code",
   "execution_count": 13,
   "metadata": {},
   "outputs": [],
   "source": [
    "\n",
    "X_train, X_test, y_train, y_test = train_test_split(\n",
    "    X, Y, test_size=0.30, random_state=42)"
   ]
  },
  {
   "cell_type": "code",
   "execution_count": 14,
   "metadata": {},
   "outputs": [],
   "source": [
    "MMRE_list=[]\n",
    "MdMRE_list=[]\n",
    "Pred_list= []\n",
    "for i in np.arange(1,9):   \n",
    "    clf= RandomForestRegressor(n_estimators=500,max_features=i)\n",
    "    clf.fit(X_train, y_train)\n",
    "    Y_pred=clf.predict(X_test)\n",
    "    diff=np.absolute(y_test-Y_pred)\n",
    "    MRE=diff/y_test\n",
    "    MMRE=np.mean(MRE)\n",
    "    MdMRE=np.median(MRE)\n",
    "    P=MRE[MRE<.25]\n",
    "    Pred=(P.size/MRE.size) * 100\n",
    "    MMRE_list.append(MMRE)\n",
    "    MdMRE_list.append(MdMRE)\n",
    "    Pred_list.append(Pred)"
   ]
  },
  {
   "cell_type": "code",
   "execution_count": 15,
   "metadata": {},
   "outputs": [
    {
     "data": {
      "text/plain": [
       "[0.8707912597290569,\n",
       " 0.8218141247054527,\n",
       " 0.8224633188119518,\n",
       " 0.8226773954642898,\n",
       " 0.8407062270572473,\n",
       " 0.8200592590534703,\n",
       " 0.8177500257947403,\n",
       " 0.8075056232034141]"
      ]
     },
     "execution_count": 15,
     "metadata": {},
     "output_type": "execute_result"
    }
   ],
   "source": [
    "MMRE_list"
   ]
  },
  {
   "cell_type": "code",
   "execution_count": 16,
   "metadata": {},
   "outputs": [
    {
     "data": {
      "text/plain": [
       "[0.36037788018433187,\n",
       " 0.32915028901734106,\n",
       " 0.32202629272567923,\n",
       " 0.3451160220994475,\n",
       " 0.35110023677979485,\n",
       " 0.3865177584846094,\n",
       " 0.40638042620363063,\n",
       " 0.44854460532461465]"
      ]
     },
     "execution_count": 16,
     "metadata": {},
     "output_type": "execute_result"
    }
   ],
   "source": [
    "MdMRE_list"
   ]
  },
  {
   "cell_type": "code",
   "execution_count": 17,
   "metadata": {},
   "outputs": [
    {
     "data": {
      "text/plain": [
       "[44.0, 40.0, 32.0, 32.0, 32.0, 36.0, 32.0, 40.0]"
      ]
     },
     "execution_count": 17,
     "metadata": {},
     "output_type": "execute_result"
    }
   ],
   "source": [
    "Pred_list"
   ]
  },
  {
   "cell_type": "code",
   "execution_count": 19,
   "metadata": {},
   "outputs": [
    {
     "data": {
      "image/png": "[encoded data removed]",
      "text/plain": [
       "<Figure size 432x288 with 1 Axes>"
      ]
     },
     "metadata": {
      "needs_background": "light"
     },
     "output_type": "display_data"
    }
   ],
   "source": [
    "import matplotlib.pyplot as plt\n",
    "import numpy as np\n",
    "\n",
    "x = np.arange(1,9)\n",
    "\n",
    "plt.plot(x, MMRE_list)\n",
    "plt.plot(x, MdMRE_list)\n",
    "\n",
    "plt.legend(['MMRE','MdMRE'], loc='upper right')\n",
    "\n",
    "plt.show()"
   ]
  },
  {
   "cell_type": "code",
   "execution_count": 20,
   "metadata": {},
   "outputs": [
    {
     "data": {
      "image/png": "[encoded data removed]",
      "text/plain": [
       "<Figure size 432x288 with 1 Axes>"
      ]
     },
     "metadata": {
      "needs_background": "light"
     },
     "output_type": "display_data"
    }
   ],
   "source": [
    "plt.plot(x, Pred_list)\n",
    "plt.legend(['Pred'], loc='upper right')\n",
    "plt.show()"
   ]
  },
  {
   "cell_type": "markdown",
   "metadata": {},
   "source": [
    "# desharnais n_estimator=100 to 1000 and max_features= 5\n"
   ]
  },
  {
   "cell_type": "code",
   "execution_count": 25,
   "metadata": {},
   "outputs": [],
   "source": [
    "MMRE_list=[]\n",
    "MdMRE_list=[]\n",
    "Pred_list= []\n",
    "for i in np.arange(100,1100,100):   \n",
    "    clf= RandomForestRegressor(n_estimators=i,max_features=5)\n",
    "    clf.fit(X_train, y_train)\n",
    "    Y_pred=clf.predict(X_test)\n",
    "    diff=np.absolute(y_test-Y_pred)\n",
    "    MRE=diff/y_test\n",
    "    MMRE=np.mean(MRE)\n",
    "    MdMRE=np.median(MRE)\n",
    "    P=MRE[MRE<.25]\n",
    "    Pred=(P.size/MRE.size) * 100\n",
    "    MMRE_list.append(MMRE)\n",
    "    MdMRE_list.append(MdMRE)\n",
    "    Pred_list.append(Pred)"
   ]
  },
  {
   "cell_type": "code",
   "execution_count": 26,
   "metadata": {},
   "outputs": [
    {
     "data": {
      "text/plain": [
       "[0.8192665490450373,\n",
       " 0.8045331070974173,\n",
       " 0.8244020777646409,\n",
       " 0.8200590787501639,\n",
       " 0.8250666929871268,\n",
       " 0.8277497878343223,\n",
       " 0.8189794478735873,\n",
       " 0.8222039109439456,\n",
       " 0.8159678037048509,\n",
       " 0.8117648792535843]"
      ]
     },
     "execution_count": 26,
     "metadata": {},
     "output_type": "execute_result"
    }
   ],
   "source": [
    "MMRE_list"
   ]
  },
  {
   "cell_type": "code",
   "execution_count": 27,
   "metadata": {},
   "outputs": [
    {
     "data": {
      "text/plain": [
       "[0.39011973575557385,\n",
       " 0.3525887924230466,\n",
       " 0.3848224151539068,\n",
       " 0.38326164167324384,\n",
       " 0.3622036306235202,\n",
       " 0.3229597474348856,\n",
       " 0.3967820498365091,\n",
       " 0.3389058800315706,\n",
       " 0.33228799438744183,\n",
       " 0.35022809786898185]"
      ]
     },
     "execution_count": 27,
     "metadata": {},
     "output_type": "execute_result"
    }
   ],
   "source": [
    "MdMRE_list"
   ]
  },
  {
   "cell_type": "code",
   "execution_count": 28,
   "metadata": {},
   "outputs": [
    {
     "data": {
      "text/plain": [
       "[28.000000000000004,\n",
       " 28.000000000000004,\n",
       " 28.000000000000004,\n",
       " 28.000000000000004,\n",
       " 32.0,\n",
       " 32.0,\n",
       " 32.0,\n",
       " 32.0,\n",
       " 28.000000000000004,\n",
       " 32.0]"
      ]
     },
     "execution_count": 28,
     "metadata": {},
     "output_type": "execute_result"
    }
   ],
   "source": [
    "Pred_list"
   ]
  },
  {
   "cell_type": "code",
   "execution_count": 29,
   "metadata": {},
   "outputs": [
    {
     "data": {
      "image/png": "[encoded data removed]",
      "text/plain": [
       "<Figure size 432x288 with 1 Axes>"
      ]
     },
     "metadata": {
      "needs_background": "light"
     },
     "output_type": "display_data"
    }
   ],
   "source": [
    "x = np.arange(100,1100,100)\n",
    "plt.plot(x, MMRE_list)\n",
    "plt.plot(x, MdMRE_list)\n",
    "\n",
    "plt.legend(['MMRE','MdMRE'], loc='upper right')\n",
    "\n",
    "plt.show()"
   ]
  },
  {
   "cell_type": "code",
   "execution_count": 30,
   "metadata": {},
   "outputs": [
    {
     "data": {
      "image/png": "[encoded data removed]",
      "text/plain": [
       "<Figure size 432x288 with 1 Axes>"
      ]
     },
     "metadata": {
      "needs_background": "light"
     },
     "output_type": "display_data"
    }
   ],
   "source": [
    "plt.plot(x, Pred_list)\n",
    "plt.legend(['Pred'], loc='upper right')\n",
    "plt.show()"
   ]
  },
  {
   "cell_type": "markdown",
   "metadata": {},
   "source": [
    "# GridSearchCV"
   ]
  },
  {
   "cell_type": "code",
   "execution_count": 32,
   "metadata": {},
   "outputs": [],
   "source": [
    "params_grd={\n",
    " 'max_features': [1,2,3,4,5,6,7,8],\n",
    "  'n_estimators': [200, 400, 600, 800, 1000, 1200, 1400, 1600, 1800, 2000]}"
   ]
  },
  {
   "cell_type": "code",
   "execution_count": 33,
   "metadata": {},
   "outputs": [
    {
     "name": "stdout",
     "output_type": "stream",
     "text": [
      "Fitting 10 folds for each of 80 candidates, totalling 800 fits\n"
     ]
    },
    {
     "name": "stderr",
     "output_type": "stream",
     "text": [
      "[Parallel(n_jobs=-1)]: Using backend LokyBackend with 8 concurrent workers.\n",
      "[Parallel(n_jobs=-1)]: Done  25 tasks      | elapsed:    3.9s\n",
      "[Parallel(n_jobs=-1)]: Done 146 tasks      | elapsed:   22.3s\n",
      "[Parallel(n_jobs=-1)]: Done 349 tasks      | elapsed:  1.1min\n",
      "[Parallel(n_jobs=-1)]: Done 632 tasks      | elapsed:  2.0min\n",
      "[Parallel(n_jobs=-1)]: Done 800 out of 800 | elapsed:  2.7min finished\n",
      "C:\\Users\\Deepak\\Anaconda3\\lib\\site-packages\\sklearn\\model_selection\\_search.py:841: DeprecationWarning: The default of the `iid` parameter will change from True to False in version 0.22 and will be removed in 0.24. This will change numeric results when test-set sizes are unequal.\n",
      "  DeprecationWarning)\n"
     ]
    }
   ],
   "source": [
    "clf= RandomForestRegressor()\n",
    "grd_search=GridSearchCV(estimator = clf, param_grid = params_grd, \n",
    "                          cv = 10, n_jobs = -1, verbose = 2)\n",
    "grd_search.fit(X_train, y_train)\n",
    "best_grid = grd_search.best_estimator_\n",
    "\n",
    "Y_pred=best_grid.predict(X_test)\n",
    "diff=np.absolute(y_test-Y_pred)\n",
    "MRE=diff/y_test\n",
    "MMRE=np.mean(MRE)\n",
    "MdMRE=np.median(MRE)\n",
    "P=MRE[MRE<.25]\n",
    "Pred=(P.size/MRE.size) * 100\n"
   ]
  },
  {
   "cell_type": "code",
   "execution_count": 34,
   "metadata": {},
   "outputs": [
    {
     "name": "stdout",
     "output_type": "stream",
     "text": [
      "0.8999680208531706\n",
      "0.3617150233587412\n",
      "40.0\n"
     ]
    }
   ],
   "source": [
    "print(MMRE)\n",
    "print(MdMRE)\n",
    "print(Pred)"
   ]
  },
  {
   "cell_type": "code",
   "execution_count": 35,
   "metadata": {},
   "outputs": [
    {
     "data": {
      "text/plain": [
       "{'max_features': 1, 'n_estimators': 400}"
      ]
     },
     "execution_count": 35,
     "metadata": {},
     "output_type": "execute_result"
    }
   ],
   "source": [
    "grd_search.best_params_"
   ]
  },
  {
   "cell_type": "markdown",
   "metadata": {},
   "source": [
    "\n",
    "# Random Hyperparameter Grid"
   ]
  },
  {
   "cell_type": "code",
   "execution_count": 46,
   "metadata": {},
   "outputs": [],
   "source": [
    "Random_grid={'bootstrap': [True, False],\n",
    " 'max_depth': [10, 20, 30, 40, 50, 60, 70, 80, 90, 100, None],\n",
    " 'max_features': [1,2,3,4,5,6,7,8],\n",
    " 'min_samples_leaf': [1, 2, 4],\n",
    " 'min_samples_split': [2, 5, 10],\n",
    " 'n_estimators': [200, 400, 600, 800, 1000, 1200, 1400, 1600, 1800, 2000]}"
   ]
  },
  {
   "cell_type": "code",
   "execution_count": 47,
   "metadata": {},
   "outputs": [
    {
     "name": "stdout",
     "output_type": "stream",
     "text": [
      "Fitting 10 folds for each of 100 candidates, totalling 1000 fits\n"
     ]
    },
    {
     "name": "stderr",
     "output_type": "stream",
     "text": [
      "[Parallel(n_jobs=-1)]: Using backend LokyBackend with 8 concurrent workers.\n",
      "[Parallel(n_jobs=-1)]: Done  25 tasks      | elapsed:    4.3s\n",
      "[Parallel(n_jobs=-1)]: Done 146 tasks      | elapsed:   25.2s\n",
      "[Parallel(n_jobs=-1)]: Done 349 tasks      | elapsed:  1.1min\n",
      "[Parallel(n_jobs=-1)]: Done 632 tasks      | elapsed:  2.2min\n",
      "[Parallel(n_jobs=-1)]: Done 1000 out of 1000 | elapsed:  3.3min finished\n",
      "C:\\Users\\Deepak\\Anaconda3\\lib\\site-packages\\sklearn\\model_selection\\_search.py:841: DeprecationWarning: The default of the `iid` parameter will change from True to False in version 0.22 and will be removed in 0.24. This will change numeric results when test-set sizes are unequal.\n",
      "  DeprecationWarning)\n"
     ]
    }
   ],
   "source": [
    "clf= RandomForestRegressor()\n",
    "random_grd_search=RandomizedSearchCV(estimator = clf, param_distributions = Random_grid, n_iter = 100, cv = 10, \n",
    "                              verbose=2, random_state=42, n_jobs = -1)\n",
    "random_grd_search.fit(X_train, y_train)\n",
    "best_grid = random_grd_search.best_estimator_\n",
    "\n",
    "Y_pred=best_grid.predict(X_test)\n",
    "diff=np.absolute(y_test-Y_pred)\n",
    "MRE=diff/y_test\n",
    "MMRE=np.mean(MRE)\n",
    "MdMRE=np.median(MRE)\n",
    "P=MRE[MRE<.25]\n",
    "Pred=(P.size/MRE.size) * 100\n"
   ]
  },
  {
   "cell_type": "code",
   "execution_count": 48,
   "metadata": {},
   "outputs": [
    {
     "name": "stdout",
     "output_type": "stream",
     "text": [
      "0.9510923428733002\n",
      "0.3615783755539389\n",
      "36.0\n"
     ]
    }
   ],
   "source": [
    "print(MMRE)\n",
    "print(MdMRE)\n",
    "print(Pred)"
   ]
  },
  {
   "cell_type": "code",
   "execution_count": 49,
   "metadata": {},
   "outputs": [
    {
     "data": {
      "text/plain": [
       "{'n_estimators': 1800,\n",
       " 'min_samples_split': 10,\n",
       " 'min_samples_leaf': 4,\n",
       " 'max_features': 1,\n",
       " 'max_depth': 30,\n",
       " 'bootstrap': True}"
      ]
     },
     "execution_count": 49,
     "metadata": {},
     "output_type": "execute_result"
    }
   ],
   "source": [
    "random_grd_search.best_params_"
   ]
  },
  {
   "cell_type": "markdown",
   "metadata": {},
   "source": [
    "#  Regression Tree Analysis"
   ]
  },
  {
   "cell_type": "code",
   "execution_count": 44,
   "metadata": {},
   "outputs": [],
   "source": [
    "clf= DecisionTreeRegressor(max_depth=30, min_samples_split=20)\n",
    "clf.fit(X_train, y_train)\n",
    "Y_pred=clf.predict(X_test)\n",
    "diff=np.absolute(y_test-Y_pred)\n",
    "MRE=diff/y_test\n",
    "MMRE=np.mean(MRE)\n",
    "MdMRE=np.median(MRE)\n",
    "P=MRE[MRE<.25]\n",
    "Pred=(P.size/MRE.size) * 100"
   ]
  },
  {
   "cell_type": "code",
   "execution_count": 45,
   "metadata": {},
   "outputs": [
    {
     "name": "stdout",
     "output_type": "stream",
     "text": [
      "0.8774700686993111\n",
      "0.5049426020408163\n",
      "36.0\n"
     ]
    }
   ],
   "source": [
    "print(MMRE)\n",
    "print(MdMRE)\n",
    "print(Pred)"
   ]
  },
  {
   "cell_type": "code",
   "execution_count": null,
   "metadata": {},
   "outputs": [],
   "source": []
  },
  {
   "cell_type": "code",
   "execution_count": null,
   "metadata": {},
   "outputs": [],
   "source": []
  }
 ],
 "metadata": {
  "kernelspec": {
   "display_name": "Python 3",
   "language": "python",
   "name": "python3"
  },
  "language_info": {
   "codemirror_mode": {
    "name": "ipython",
    "version": 3
   },
   "file_extension": ".py",
   "mimetype": "text/x-python",
   "name": "python",
   "nbconvert_exporter": "python",
   "pygments_lexer": "ipython3",
   "version": "3.8.5"
  }
 },
 "nbformat": 4,
 "nbformat_minor": 2
}
