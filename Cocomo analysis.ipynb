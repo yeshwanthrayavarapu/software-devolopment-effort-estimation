{
 "cells": [
  {
   "cell_type": "code",
   "execution_count": 1,
   "metadata": {},
   "outputs": [],
   "source": [
    "import arff, numpy as np\n",
    "import pandas as pd\n",
    "import matplotlib.pyplot as plt\n",
    "from sklearn.ensemble import RandomForestRegressor\n",
    "from sklearn.tree import DecisionTreeRegressor\n",
    "from sklearn.model_selection import train_test_split\n",
    "from sklearn import preprocessing\n",
    "from sklearn.model_selection import KFold,cross_val_score\n",
    "from sklearn.model_selection import GridSearchCV,RandomizedSearchCV\n",
    "\n"
   ]
  },
  {
   "cell_type": "code",
   "execution_count": 3,
   "metadata": {},
   "outputs": [
    {
     "ename": "TypeError",
     "evalue": "'generator' object is not subscriptable",
     "output_type": "error",
     "traceback": [
      "\u001b[1;31m---------------------------------------------------------------------------\u001b[0m",
      "\u001b[1;31mTypeError\u001b[0m                                 Traceback (most recent call last)",
      "\u001b[1;32m<ipython-input-3-18003bab06b4>\u001b[0m in \u001b[0;36m<module>\u001b[1;34m\u001b[0m\n\u001b[0;32m      1\u001b[0m \u001b[0mdataset\u001b[0m \u001b[1;33m=\u001b[0m \u001b[0marff\u001b[0m\u001b[1;33m.\u001b[0m\u001b[0mload\u001b[0m\u001b[1;33m(\u001b[0m\u001b[0mopen\u001b[0m\u001b[1;33m(\u001b[0m\u001b[1;34m'cocomo811.arff'\u001b[0m\u001b[1;33m)\u001b[0m\u001b[1;33m)\u001b[0m\u001b[1;33m\u001b[0m\u001b[1;33m\u001b[0m\u001b[0m\n\u001b[1;32m----> 2\u001b[1;33m \u001b[0mdata\u001b[0m\u001b[1;33m=\u001b[0m\u001b[0mnp\u001b[0m\u001b[1;33m.\u001b[0m\u001b[0marray\u001b[0m\u001b[1;33m(\u001b[0m\u001b[0mdataset\u001b[0m\u001b[1;33m[\u001b[0m\u001b[1;34m'data'\u001b[0m\u001b[1;33m]\u001b[0m\u001b[1;33m)\u001b[0m\u001b[1;33m\u001b[0m\u001b[1;33m\u001b[0m\u001b[0m\n\u001b[0m",
      "\u001b[1;31mTypeError\u001b[0m: 'generator' object is not subscriptable"
     ]
    }
   ],
   "source": [
    "dataset = arff.load(open('cocomo811.arff'))\n",
    "data=np.array(dataset['data'])"
   ]
  },
  {
   "cell_type": "code",
   "execution_count": 4,
   "metadata": {},
   "outputs": [
    {
     "ename": "NameError",
     "evalue": "name 'data' is not defined",
     "output_type": "error",
     "traceback": [
      "\u001b[1;31m---------------------------------------------------------------------------\u001b[0m",
      "\u001b[1;31mNameError\u001b[0m                                 Traceback (most recent call last)",
      "\u001b[1;32m<ipython-input-4-047ed65ff157>\u001b[0m in \u001b[0;36m<module>\u001b[1;34m\u001b[0m\n\u001b[1;32m----> 1\u001b[1;33m \u001b[0mdata\u001b[0m\u001b[1;33m.\u001b[0m\u001b[0mshape\u001b[0m\u001b[1;33m\u001b[0m\u001b[1;33m\u001b[0m\u001b[0m\n\u001b[0m",
      "\u001b[1;31mNameError\u001b[0m: name 'data' is not defined"
     ]
    }
   ],
   "source": [
    "data.shape"
   ]
  },
  {
   "cell_type": "code",
   "execution_count": 4,
   "metadata": {},
   "outputs": [],
   "source": [
    "X=data[:,0:16]\n",
    "Y=data[:,16:17]"
   ]
  },
  {
   "cell_type": "code",
   "execution_count": 5,
   "metadata": {},
   "outputs": [],
   "source": [
    "Y=Y.reshape(63)"
   ]
  },
  {
   "cell_type": "code",
   "execution_count": 6,
   "metadata": {},
   "outputs": [
    {
     "data": {
      "text/plain": [
       "(63, 16)"
      ]
     },
     "execution_count": 6,
     "metadata": {},
     "output_type": "execute_result"
    }
   ],
   "source": [
    "X.shape"
   ]
  },
  {
   "cell_type": "markdown",
   "metadata": {},
   "source": [
    "# Cocomo n_estimator=100 and max_features= 1 to 16"
   ]
  },
  {
   "cell_type": "code",
   "execution_count": 51,
   "metadata": {},
   "outputs": [],
   "source": [
    "\n",
    "X_train, X_test, y_train, y_test = train_test_split(\n",
    "    X, Y, test_size=0.30, random_state=42)"
   ]
  },
  {
   "cell_type": "code",
   "execution_count": 52,
   "metadata": {},
   "outputs": [],
   "source": [
    "lab_enc = preprocessing.LabelEncoder()\n",
    "training_scores_encoded = lab_enc.fit_transform(y_train)"
   ]
  },
  {
   "cell_type": "code",
   "execution_count": 57,
   "metadata": {},
   "outputs": [],
   "source": [
    "n_feature=7\n",
    "MMRE_list=[]\n",
    "MdMRE_list=[]\n",
    "Pred_list= []\n",
    "for i in np.arange(1,11):   \n",
    "    clf= RandomForestRegressor(n_estimators=100,max_features=i)\n",
    "    clf.fit(X_train, training_scores_encoded)\n",
    "    Y_pred=clf.predict(X_test)\n",
    "    diff=np.absolute(y_test-Y_pred)\n",
    "    MRE=diff/y_test\n",
    "    MMRE=np.mean(MRE)\n",
    "    MdMRE=np.median(MRE)\n",
    "    P=MRE[MRE<.25]\n",
    "    Pred=(P.size/MRE.size) * 100\n",
    "    MMRE_list.append(MMRE)\n",
    "    MdMRE_list.append(MdMRE)\n",
    "    Pred_list.append(Pred)"
   ]
  },
  {
   "cell_type": "code",
   "execution_count": 58,
   "metadata": {},
   "outputs": [
    {
     "data": {
      "text/plain": [
       "[0.7971338091857509,\n",
       " 0.7678155233445535,\n",
       " 0.7518933931836663,\n",
       " 0.7749452835675603,\n",
       " 0.7588313003445126,\n",
       " 0.7688729198148886,\n",
       " 0.78671109305838,\n",
       " 0.7669305754274645,\n",
       " 0.7734761681310482,\n",
       " 0.7714228328824447]"
      ]
     },
     "execution_count": 58,
     "metadata": {},
     "output_type": "execute_result"
    }
   ],
   "source": [
    "MMRE_list"
   ]
  },
  {
   "cell_type": "code",
   "execution_count": 59,
   "metadata": {},
   "outputs": [
    {
     "data": {
      "text/plain": [
       "[0.7688888888888888,\n",
       " 0.7751219512195122,\n",
       " 0.7836585365853659,\n",
       " 0.8080487804878049,\n",
       " 0.7963414634146341,\n",
       " 0.8096341463414635,\n",
       " 0.8148780487804878,\n",
       " 0.8292682926829268,\n",
       " 0.8026923076923076,\n",
       " 0.8213076923076923]"
      ]
     },
     "execution_count": 59,
     "metadata": {},
     "output_type": "execute_result"
    }
   ],
   "source": [
    "MdMRE_list"
   ]
  },
  {
   "cell_type": "code",
   "execution_count": 60,
   "metadata": {},
   "outputs": [
    {
     "data": {
      "text/plain": [
       "[0.0,\n",
       " 5.263157894736842,\n",
       " 5.263157894736842,\n",
       " 5.263157894736842,\n",
       " 5.263157894736842,\n",
       " 0.0,\n",
       " 0.0,\n",
       " 5.263157894736842,\n",
       " 0.0,\n",
       " 0.0]"
      ]
     },
     "execution_count": 60,
     "metadata": {},
     "output_type": "execute_result"
    }
   ],
   "source": [
    "Pred_list"
   ]
  },
  {
   "cell_type": "code",
   "execution_count": 61,
   "metadata": {},
   "outputs": [
    {
     "data": {
      "image/png": "[encoded data removed]",
      "text/plain": [
       "<Figure size 432x288 with 1 Axes>"
      ]
     },
     "metadata": {
      "needs_background": "light"
     },
     "output_type": "display_data"
    }
   ],
   "source": [
    "import matplotlib.pyplot as plt\n",
    "import numpy as np\n",
    "\n",
    "x = np.arange(1,11)\n",
    "\n",
    "plt.plot(x, MMRE_list)\n",
    "plt.plot(x, MdMRE_list)\n",
    "\n",
    "plt.legend(['MMRE','MdMRE'], loc='upper right')\n",
    "\n",
    "plt.show()"
   ]
  },
  {
   "cell_type": "code",
   "execution_count": 62,
   "metadata": {},
   "outputs": [
    {
     "data": {
      "image/png": "[encoded data removed]",
      "text/plain": [
       "<Figure size 432x288 with 1 Axes>"
      ]
     },
     "metadata": {
      "needs_background": "light"
     },
     "output_type": "display_data"
    }
   ],
   "source": [
    "plt.plot(x, Pred_list)\n",
    "plt.legend(['Pred'], loc='upper right')\n",
    "plt.show()"
   ]
  },
  {
   "cell_type": "markdown",
   "metadata": {},
   "source": [
    "# COCOMO n_estimator=100 to 2000 and max_features= 7\n"
   ]
  },
  {
   "cell_type": "code",
   "execution_count": 83,
   "metadata": {},
   "outputs": [],
   "source": [
    "MMRE_list=[]\n",
    "MdMRE_list=[]\n",
    "Pred_list= []\n",
    "for i in np.arange(100,1100,100):   \n",
    "    clf= RandomForestRegressor(n_estimators=i,max_features=7)\n",
    "    clf.fit(X_train, training_scores_encoded)\n",
    "    Y_pred=clf.predict(X_test)\n",
    "    diff=np.absolute(y_test-Y_pred)\n",
    "    MRE=diff/y_test\n",
    "    MMRE=np.mean(MRE)\n",
    "    MdMRE=np.median(MRE)\n",
    "    P=MRE[MRE<.25]\n",
    "    Pred=(P.size/MRE.size) * 100\n",
    "    MMRE_list.append(MMRE)\n",
    "    MdMRE_list.append(MdMRE)\n",
    "    Pred_list.append(Pred)"
   ]
  },
  {
   "cell_type": "code",
   "execution_count": 84,
   "metadata": {},
   "outputs": [
    {
     "data": {
      "text/plain": [
       "[0.7808978175154454,\n",
       " 0.7701772927661539,\n",
       " 0.7670331265707331,\n",
       " 0.7678005333915134,\n",
       " 0.7688930165767264,\n",
       " 0.7674646568513901,\n",
       " 0.7728694215267984,\n",
       " 0.7725009193040682,\n",
       " 0.7739206573869396,\n",
       " 0.7679683151012039]"
      ]
     },
     "execution_count": 84,
     "metadata": {},
     "output_type": "execute_result"
    }
   ],
   "source": [
    "MMRE_list"
   ]
  },
  {
   "cell_type": "code",
   "execution_count": 85,
   "metadata": {},
   "outputs": [
    {
     "data": {
      "text/plain": [
       "[0.8207317073170731,\n",
       " 0.8136585365853658,\n",
       " 0.8110569105691057,\n",
       " 0.8114634146341463,\n",
       " 0.8136461538461539,\n",
       " 0.8228589743589744,\n",
       " 0.8094773519163763,\n",
       " 0.8243365384615384,\n",
       " 0.8141869918699187,\n",
       " 0.8131615384615385]"
      ]
     },
     "execution_count": 85,
     "metadata": {},
     "output_type": "execute_result"
    }
   ],
   "source": [
    "MdMRE_list"
   ]
  },
  {
   "cell_type": "code",
   "execution_count": 86,
   "metadata": {},
   "outputs": [
    {
     "data": {
      "text/plain": [
       "[0.0, 0.0, 5.263157894736842, 5.263157894736842, 0.0, 0.0, 0.0, 0.0, 0.0, 0.0]"
      ]
     },
     "execution_count": 86,
     "metadata": {},
     "output_type": "execute_result"
    }
   ],
   "source": [
    "Pred_list"
   ]
  },
  {
   "cell_type": "code",
   "execution_count": 87,
   "metadata": {},
   "outputs": [
    {
     "data": {
      "image/png": "[encoded data removed]",
      "text/plain": [
       "<Figure size 432x288 with 1 Axes>"
      ]
     },
     "metadata": {
      "needs_background": "light"
     },
     "output_type": "display_data"
    }
   ],
   "source": [
    "x = np.arange(100,1100,100)\n",
    "plt.plot(x, MMRE_list)\n",
    "plt.plot(x, MdMRE_list)\n",
    "\n",
    "plt.legend(['MMRE','MdMRE'], loc='upper right')\n",
    "\n",
    "plt.show()"
   ]
  },
  {
   "cell_type": "code",
   "execution_count": 88,
   "metadata": {},
   "outputs": [
    {
     "data": {
      "image/png": "[encoded data removed]",
      "text/plain": [
       "<Figure size 432x288 with 1 Axes>"
      ]
     },
     "metadata": {
      "needs_background": "light"
     },
     "output_type": "display_data"
    }
   ],
   "source": [
    "plt.plot(x, Pred_list)\n",
    "plt.legend(['Pred'], loc='upper right')\n",
    "plt.show()"
   ]
  },
  {
   "cell_type": "markdown",
   "metadata": {},
   "source": [
    "# GridSearchCV"
   ]
  },
  {
   "cell_type": "code",
   "execution_count": 71,
   "metadata": {},
   "outputs": [],
   "source": [
    "params_grd={\n",
    " 'max_features': [1,2,3,4,5,6,7,8,9,10],\n",
    "  'n_estimators': [200, 400, 600, 800, 1000, 1200, 1400, 1600, 1800, 2000]}"
   ]
  },
  {
   "cell_type": "code",
   "execution_count": 72,
   "metadata": {},
   "outputs": [
    {
     "name": "stdout",
     "output_type": "stream",
     "text": [
      "Fitting 10 folds for each of 100 candidates, totalling 1000 fits\n"
     ]
    },
    {
     "name": "stderr",
     "output_type": "stream",
     "text": [
      "[Parallel(n_jobs=-1)]: Using backend LokyBackend with 8 concurrent workers.\n",
      "[Parallel(n_jobs=-1)]: Done  25 tasks      | elapsed:    3.8s\n",
      "[Parallel(n_jobs=-1)]: Done 146 tasks      | elapsed:   22.0s\n",
      "[Parallel(n_jobs=-1)]: Done 349 tasks      | elapsed:  1.0min\n",
      "[Parallel(n_jobs=-1)]: Done 632 tasks      | elapsed:  1.9min\n",
      "[Parallel(n_jobs=-1)]: Done 1000 out of 1000 | elapsed:  3.2min finished\n",
      "C:\\Users\\Deepak\\Anaconda3\\lib\\site-packages\\sklearn\\model_selection\\_search.py:841: DeprecationWarning: The default of the `iid` parameter will change from True to False in version 0.22 and will be removed in 0.24. This will change numeric results when test-set sizes are unequal.\n",
      "  DeprecationWarning)\n"
     ]
    }
   ],
   "source": [
    "clf= RandomForestRegressor()\n",
    "grd_search=GridSearchCV(estimator = clf, param_grid = params_grd, \n",
    "                          cv = 10, n_jobs = -1, verbose = 2)\n",
    "grd_search.fit(X_train, training_scores_encoded)\n",
    "best_grid = grd_search.best_estimator_\n",
    "\n",
    "Y_pred=best_grid.predict(X_test)\n",
    "diff=np.absolute(y_test-Y_pred)\n",
    "MRE=diff/y_test\n",
    "MMRE=np.mean(MRE)\n",
    "MdMRE=np.median(MRE)\n",
    "P=MRE[MRE<.25]\n",
    "Pred=(P.size/MRE.size) * 100\n"
   ]
  },
  {
   "cell_type": "code",
   "execution_count": 73,
   "metadata": {},
   "outputs": [
    {
     "name": "stdout",
     "output_type": "stream",
     "text": [
      "0.768212596049101\n",
      "0.8173846153846154\n",
      "5.263157894736842\n"
     ]
    }
   ],
   "source": [
    "print(MMRE)\n",
    "print(MdMRE)\n",
    "print(Pred)"
   ]
  },
  {
   "cell_type": "code",
   "execution_count": 74,
   "metadata": {},
   "outputs": [
    {
     "data": {
      "text/plain": [
       "{'max_features': 9, 'n_estimators': 200}"
      ]
     },
     "execution_count": 74,
     "metadata": {},
     "output_type": "execute_result"
    }
   ],
   "source": [
    "grd_search.best_params_"
   ]
  },
  {
   "cell_type": "markdown",
   "metadata": {},
   "source": [
    "\n",
    "# Random Hyperparameter Grid"
   ]
  },
  {
   "cell_type": "code",
   "execution_count": 75,
   "metadata": {},
   "outputs": [],
   "source": [
    "Random_grid={'bootstrap': [True, False],\n",
    " 'max_depth': [10, 20, 30, 40, 50, 60, 70, 80, 90, 100, None],\n",
    " 'max_features': [1,2,3,4,5,6,7,8,9,10],\n",
    " 'min_samples_leaf': [1, 2, 4],\n",
    " 'min_samples_split': [2, 5, 10],\n",
    " 'n_estimators': [200, 400, 600, 800, 1000, 1200, 1400, 1600, 1800, 2000]}"
   ]
  },
  {
   "cell_type": "code",
   "execution_count": 76,
   "metadata": {},
   "outputs": [
    {
     "name": "stdout",
     "output_type": "stream",
     "text": [
      "Fitting 10 folds for each of 80 candidates, totalling 800 fits\n"
     ]
    },
    {
     "name": "stderr",
     "output_type": "stream",
     "text": [
      "[Parallel(n_jobs=-1)]: Using backend LokyBackend with 8 concurrent workers.\n",
      "[Parallel(n_jobs=-1)]: Done  25 tasks      | elapsed:    7.8s\n",
      "[Parallel(n_jobs=-1)]: Done 146 tasks      | elapsed:   25.0s\n",
      "[Parallel(n_jobs=-1)]: Done 349 tasks      | elapsed:  1.1min\n",
      "[Parallel(n_jobs=-1)]: Done 632 tasks      | elapsed:  1.9min\n",
      "[Parallel(n_jobs=-1)]: Done 800 out of 800 | elapsed:  2.6min finished\n",
      "C:\\Users\\Deepak\\Anaconda3\\lib\\site-packages\\sklearn\\model_selection\\_search.py:841: DeprecationWarning: The default of the `iid` parameter will change from True to False in version 0.22 and will be removed in 0.24. This will change numeric results when test-set sizes are unequal.\n",
      "  DeprecationWarning)\n"
     ]
    }
   ],
   "source": [
    "clf= RandomForestRegressor()\n",
    "random_grd_search=RandomizedSearchCV(estimator = clf, param_distributions = Random_grid, n_iter = 80, cv = 10, \n",
    "                              verbose=2, random_state=42, n_jobs = -1)\n",
    "random_grd_search.fit(X_train, training_scores_encoded)\n",
    "best_grid = random_grd_search.best_estimator_\n",
    "\n",
    "Y_pred=best_grid.predict(X_test)\n",
    "diff=np.absolute(y_test-Y_pred)\n",
    "MRE=diff/y_test\n",
    "MMRE=np.mean(MRE)\n",
    "MdMRE=np.median(MRE)\n",
    "P=MRE[MRE<.25]\n",
    "Pred=(P.size/MRE.size) * 100\n"
   ]
  },
  {
   "cell_type": "code",
   "execution_count": 77,
   "metadata": {},
   "outputs": [
    {
     "name": "stdout",
     "output_type": "stream",
     "text": [
      "0.7578352266691194\n",
      "0.8039583333333333\n",
      "5.263157894736842\n"
     ]
    }
   ],
   "source": [
    "print(MMRE)\n",
    "print(MdMRE)\n",
    "print(Pred)"
   ]
  },
  {
   "cell_type": "code",
   "execution_count": 78,
   "metadata": {},
   "outputs": [
    {
     "data": {
      "text/plain": [
       "{'n_estimators': 800,\n",
       " 'min_samples_split': 2,\n",
       " 'min_samples_leaf': 1,\n",
       " 'max_features': 9,\n",
       " 'max_depth': 70,\n",
       " 'bootstrap': False}"
      ]
     },
     "execution_count": 78,
     "metadata": {},
     "output_type": "execute_result"
    }
   ],
   "source": [
    "random_grd_search.best_params_"
   ]
  },
  {
   "cell_type": "markdown",
   "metadata": {},
   "source": [
    "#  Regression Tree Analysis"
   ]
  },
  {
   "cell_type": "code",
   "execution_count": 81,
   "metadata": {},
   "outputs": [],
   "source": [
    "clf= DecisionTreeRegressor(max_depth=30, min_samples_split=20)\n",
    "clf.fit(X_train, training_scores_encoded)\n",
    "Y_pred=clf.predict(X_test)\n",
    "diff=np.absolute(y_test-Y_pred)\n",
    "MRE=diff/y_test\n",
    "MMRE=np.mean(MRE)\n",
    "MdMRE=np.median(MRE)\n",
    "P=MRE[MRE<.25]\n",
    "Pred=(P.size/MRE.size) * 100"
   ]
  },
  {
   "cell_type": "code",
   "execution_count": 82,
   "metadata": {},
   "outputs": [
    {
     "name": "stdout",
     "output_type": "stream",
     "text": [
      "0.7569677376178159\n",
      "0.8394062078272605\n",
      "5.263157894736842\n"
     ]
    }
   ],
   "source": [
    "print(MMRE)\n",
    "print(MdMRE)\n",
    "print(Pred)"
   ]
  },
  {
   "cell_type": "code",
   "execution_count": null,
   "metadata": {},
   "outputs": [],
   "source": []
  },
  {
   "cell_type": "code",
   "execution_count": null,
   "metadata": {},
   "outputs": [],
   "source": []
  }
 ],
 "metadata": {
  "kernelspec": {
   "display_name": "Python 3",
   "language": "python",
   "name": "python3"
  },
  "language_info": {
   "codemirror_mode": {
    "name": "ipython",
    "version": 3
   },
   "file_extension": ".py",
   "mimetype": "text/x-python",
   "name": "python",
   "nbconvert_exporter": "python",
   "pygments_lexer": "ipython3",
   "version": "3.8.5"
  }
 },
 "nbformat": 4,
 "nbformat_minor": 2
}
