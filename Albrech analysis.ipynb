{
 "cells": [
  {
   "cell_type": "code",
   "execution_count": 74,
   "metadata": {},
   "outputs": [],
   "source": [
    "import arff, numpy as np\n",
    "import pandas as pd\n",
    "import matplotlib.pyplot as plt\n",
    "from sklearn.ensemble import RandomForestRegressor\n",
    "from sklearn.tree import DecisionTreeRegressor\n",
    "from sklearn.model_selection import train_test_split\n",
    "from sklearn import preprocessing\n",
    "from sklearn.model_selection import KFold,cross_val_score\n",
    "from sklearn.model_selection import GridSearchCV,RandomizedSearchCV\n",
    "\n"
   ]
  },
  {
   "cell_type": "code",
   "execution_count": 32,
   "metadata": {},
   "outputs": [],
   "source": [
    "dataset = arff.load(open('albrecht.arff'))\n",
    "data=np.array(dataset['data'])"
   ]
  },
  {
   "cell_type": "code",
   "execution_count": 33,
   "metadata": {},
   "outputs": [
    {
     "data": {
      "text/plain": [
       "(24, 8)"
      ]
     },
     "execution_count": 33,
     "metadata": {},
     "output_type": "execute_result"
    }
   ],
   "source": [
    "data.shape"
   ]
  },
  {
   "cell_type": "code",
   "execution_count": 34,
   "metadata": {},
   "outputs": [],
   "source": [
    "X=data[:,0:6]\n",
    "Y=data[:,7:8]"
   ]
  },
  {
   "cell_type": "code",
   "execution_count": 35,
   "metadata": {},
   "outputs": [],
   "source": [
    "Y=Y.reshape(24)\n"
   ]
  },
  {
   "cell_type": "code",
   "execution_count": 36,
   "metadata": {},
   "outputs": [
    {
     "data": {
      "text/plain": [
       "(24, 6)"
      ]
     },
     "execution_count": 36,
     "metadata": {},
     "output_type": "execute_result"
    }
   ],
   "source": [
    "X.shape"
   ]
  },
  {
   "cell_type": "code",
   "execution_count": 37,
   "metadata": {},
   "outputs": [],
   "source": [
    "from sklearn.model_selection import train_test_split"
   ]
  },
  {
   "cell_type": "markdown",
   "metadata": {},
   "source": [
    "# Albrech n_estimator=500 and max_features= 1 to 6"
   ]
  },
  {
   "cell_type": "code",
   "execution_count": 38,
   "metadata": {},
   "outputs": [],
   "source": [
    "\n",
    "X_train, X_test, y_train, y_test = train_test_split(\n",
    "    X, Y, test_size=0.30, random_state=42)"
   ]
  },
  {
   "cell_type": "code",
   "execution_count": 39,
   "metadata": {},
   "outputs": [],
   "source": [
    "lab_enc = preprocessing.LabelEncoder()\n",
    "training_scores_encoded = lab_enc.fit_transform(y_train)"
   ]
  },
  {
   "cell_type": "markdown",
   "metadata": {},
   "source": [
    "albrecht n_estimators=500 and max_features=1 to 7"
   ]
  },
  {
   "cell_type": "code",
   "execution_count": 40,
   "metadata": {},
   "outputs": [],
   "source": [
    "n_feature=7\n",
    "MMRE_list=[]\n",
    "MdMRE_list=[]\n",
    "Pred_list= []\n",
    "for i in np.arange(1,7):   \n",
    "    clf= RandomForestRegressor(n_estimators=500,max_features=i)\n",
    "    clf.fit(X_train, training_scores_encoded)\n",
    "    Y_pred=clf.predict(X_test)\n",
    "    diff=np.absolute(y_test-Y_pred)\n",
    "    MRE=diff/y_test\n",
    "    MMRE=np.mean(MRE)\n",
    "    MdMRE=np.median(MRE)\n",
    "    P=MRE[MRE<.25]\n",
    "    Pred=(P.size/MRE.size) * 100\n",
    "    MMRE_list.append(MMRE)\n",
    "    MdMRE_list.append(MdMRE)\n",
    "    Pred_list.append(Pred)"
   ]
  },
  {
   "cell_type": "code",
   "execution_count": 41,
   "metadata": {},
   "outputs": [
    {
     "data": {
      "text/plain": [
       "[0.5696435684746409,\n",
       " 0.5432476125553963,\n",
       " 0.5241905397108446,\n",
       " 0.5217940030574177,\n",
       " 0.549832055223801,\n",
       " 0.5367452600329448]"
      ]
     },
     "execution_count": 41,
     "metadata": {},
     "output_type": "execute_result"
    }
   ],
   "source": [
    "MMRE_list"
   ]
  },
  {
   "cell_type": "code",
   "execution_count": 42,
   "metadata": {},
   "outputs": [
    {
     "data": {
      "text/plain": [
       "[0.6106613312680178,\n",
       " 0.5663306226066005,\n",
       " 0.5322111785207178,\n",
       " 0.515310442752033,\n",
       " 0.5239572307559917,\n",
       " 0.525209328342154]"
      ]
     },
     "execution_count": 42,
     "metadata": {},
     "output_type": "execute_result"
    }
   ],
   "source": [
    "MdMRE_list"
   ]
  },
  {
   "cell_type": "code",
   "execution_count": 43,
   "metadata": {},
   "outputs": [
    {
     "data": {
      "text/plain": [
       "[25.0, 25.0, 25.0, 25.0, 12.5, 12.5]"
      ]
     },
     "execution_count": 43,
     "metadata": {},
     "output_type": "execute_result"
    }
   ],
   "source": [
    "Pred_list"
   ]
  },
  {
   "cell_type": "code",
   "execution_count": 46,
   "metadata": {},
   "outputs": [
    {
     "data": {
      "image/png": "[encoded data removed]",
      "text/plain": [
       "<Figure size 432x288 with 1 Axes>"
      ]
     },
     "metadata": {
      "needs_background": "light"
     },
     "output_type": "display_data"
    }
   ],
   "source": [
    "import matplotlib.pyplot as plt\n",
    "import numpy as np\n",
    "\n",
    "x = np.arange(1,7)\n",
    "\n",
    "plt.plot(x, MMRE_list)\n",
    "plt.plot(x, MdMRE_list)\n",
    "\n",
    "plt.legend(['MMRE','MdMRE'], loc='upper right')\n",
    "\n",
    "plt.show()"
   ]
  },
  {
   "cell_type": "code",
   "execution_count": 47,
   "metadata": {},
   "outputs": [
    {
     "data": {
      "image/png": "[encoded data removed]",
      "text/plain": [
       "<Figure size 432x288 with 1 Axes>"
      ]
     },
     "metadata": {
      "needs_background": "light"
     },
     "output_type": "display_data"
    }
   ],
   "source": [
    "plt.plot(x, Pred_list)\n",
    "plt.legend(['Pred'], loc='upper right')\n",
    "plt.show()"
   ]
  },
  {
   "cell_type": "markdown",
   "metadata": {},
   "source": [
    "# Albrech n_estimator=100 to 1000 and max_features= 5\n"
   ]
  },
  {
   "cell_type": "code",
   "execution_count": 51,
   "metadata": {},
   "outputs": [],
   "source": [
    "MMRE_list=[]\n",
    "MdMRE_list=[]\n",
    "Pred_list= []\n",
    "for i in np.arange(100,1100,100):   \n",
    "    clf= RandomForestRegressor(n_estimators=i,max_features=5)\n",
    "    clf.fit(X_train, training_scores_encoded)\n",
    "    Y_pred=clf.predict(X_test)\n",
    "    diff=np.absolute(y_test-Y_pred)\n",
    "    MRE=diff/y_test\n",
    "    MMRE=np.mean(MRE)\n",
    "    MdMRE=np.median(MRE)\n",
    "    P=MRE[MRE<.25]\n",
    "    Pred=(P.size/MRE.size) * 100\n",
    "    MMRE_list.append(MMRE)\n",
    "    MdMRE_list.append(MdMRE)\n",
    "    Pred_list.append(Pred)"
   ]
  },
  {
   "cell_type": "code",
   "execution_count": 52,
   "metadata": {},
   "outputs": [
    {
     "data": {
      "text/plain": [
       "[0.5481462011587654,\n",
       " 0.5389346724512822,\n",
       " 0.539032768359244,\n",
       " 0.5350911707076615,\n",
       " 0.5445490460780971,\n",
       " 0.5309464700812565,\n",
       " 0.5366391507112551,\n",
       " 0.537256885407731,\n",
       " 0.5334994395863559,\n",
       " 0.5340082539632021]"
      ]
     },
     "execution_count": 52,
     "metadata": {},
     "output_type": "execute_result"
    }
   ],
   "source": [
    "MMRE_list"
   ]
  },
  {
   "cell_type": "code",
   "execution_count": 53,
   "metadata": {},
   "outputs": [
    {
     "data": {
      "text/plain": [
       "[0.5226560819241857,\n",
       " 0.531419689342111,\n",
       " 0.5155974355664559,\n",
       " 0.5183818467363711,\n",
       " 0.5249455703282991,\n",
       " 0.5179062145920285,\n",
       " 0.5189683256806014,\n",
       " 0.522874714943419,\n",
       " 0.519703445539253,\n",
       " 0.5204791101931932]"
      ]
     },
     "execution_count": 53,
     "metadata": {},
     "output_type": "execute_result"
    }
   ],
   "source": [
    "MdMRE_list"
   ]
  },
  {
   "cell_type": "code",
   "execution_count": 54,
   "metadata": {},
   "outputs": [
    {
     "data": {
      "text/plain": [
       "[12.5, 25.0, 12.5, 12.5, 12.5, 12.5, 12.5, 12.5, 25.0, 12.5]"
      ]
     },
     "execution_count": 54,
     "metadata": {},
     "output_type": "execute_result"
    }
   ],
   "source": [
    "Pred_list"
   ]
  },
  {
   "cell_type": "code",
   "execution_count": 55,
   "metadata": {},
   "outputs": [
    {
     "data": {
      "image/png": "[encoded data removed]",
      "text/plain": [
       "<Figure size 432x288 with 1 Axes>"
      ]
     },
     "metadata": {
      "needs_background": "light"
     },
     "output_type": "display_data"
    }
   ],
   "source": [
    "x = np.arange(100,1100,100)\n",
    "plt.plot(x, MMRE_list)\n",
    "plt.plot(x, MdMRE_list)\n",
    "\n",
    "plt.legend(['MMRE','MdMRE'], loc='upper right')\n",
    "\n",
    "plt.show()"
   ]
  },
  {
   "cell_type": "code",
   "execution_count": 56,
   "metadata": {},
   "outputs": [
    {
     "data": {
      "image/png": "[encoded data removed]",
      "text/plain": [
       "<Figure size 432x288 with 1 Axes>"
      ]
     },
     "metadata": {
      "needs_background": "light"
     },
     "output_type": "display_data"
    }
   ],
   "source": [
    "plt.plot(x, Pred_list)\n",
    "plt.legend(['Pred'], loc='upper right')\n",
    "plt.show()"
   ]
  },
  {
   "cell_type": "markdown",
   "metadata": {},
   "source": [
    "# GridSearchCV"
   ]
  },
  {
   "cell_type": "code",
   "execution_count": 63,
   "metadata": {},
   "outputs": [],
   "source": [
    "params_grd={\n",
    " 'max_features': [1,2,3,4,5,6],\n",
    "  'n_estimators': [200, 400, 600, 800, 1000, 1200, 1400, 1600, 1800, 2000]}"
   ]
  },
  {
   "cell_type": "code",
   "execution_count": 64,
   "metadata": {},
   "outputs": [
    {
     "name": "stdout",
     "output_type": "stream",
     "text": [
      "Fitting 10 folds for each of 60 candidates, totalling 600 fits\n"
     ]
    },
    {
     "name": "stderr",
     "output_type": "stream",
     "text": [
      "[Parallel(n_jobs=-1)]: Using backend LokyBackend with 8 concurrent workers.\n",
      "[Parallel(n_jobs=-1)]: Done  25 tasks      | elapsed:    3.0s\n",
      "[Parallel(n_jobs=-1)]: Done 146 tasks      | elapsed:   20.9s\n",
      "[Parallel(n_jobs=-1)]: Done 349 tasks      | elapsed:   56.6s\n",
      "[Parallel(n_jobs=-1)]: Done 600 out of 600 | elapsed:  1.8min finished\n",
      "C:\\Users\\Deepak\\Anaconda3\\lib\\site-packages\\sklearn\\model_selection\\_search.py:841: DeprecationWarning: The default of the `iid` parameter will change from True to False in version 0.22 and will be removed in 0.24. This will change numeric results when test-set sizes are unequal.\n",
      "  DeprecationWarning)\n"
     ]
    }
   ],
   "source": [
    "clf= RandomForestRegressor()\n",
    "grd_search=GridSearchCV(estimator = clf, param_grid = params_grd, \n",
    "                          cv = 10, n_jobs = -1, verbose = 2)\n",
    "grd_search.fit(X_train, training_scores_encoded)\n",
    "best_grid = grd_search.best_estimator_\n",
    "\n",
    "Y_pred=best_grid.predict(X_test)\n",
    "diff=np.absolute(y_test-Y_pred)\n",
    "MRE=diff/y_test\n",
    "MMRE=np.mean(MRE)\n",
    "MdMRE=np.median(MRE)\n",
    "P=MRE[MRE<.25]\n",
    "Pred=(P.size/MRE.size) * 100\n"
   ]
  },
  {
   "cell_type": "code",
   "execution_count": 65,
   "metadata": {},
   "outputs": [
    {
     "name": "stdout",
     "output_type": "stream",
     "text": [
      "0.5181951173076893\n",
      "0.5144290559638214\n",
      "25.0\n"
     ]
    }
   ],
   "source": [
    "print(MMRE)\n",
    "print(MdMRE)\n",
    "print(Pred)"
   ]
  },
  {
   "cell_type": "code",
   "execution_count": 68,
   "metadata": {},
   "outputs": [
    {
     "data": {
      "text/plain": [
       "{'max_features': 6, 'n_estimators': 200}"
      ]
     },
     "execution_count": 68,
     "metadata": {},
     "output_type": "execute_result"
    }
   ],
   "source": [
    "grd_search.best_params_"
   ]
  },
  {
   "cell_type": "markdown",
   "metadata": {},
   "source": [
    "\n",
    "# Random Hyperparameter Grid"
   ]
  },
  {
   "cell_type": "code",
   "execution_count": 67,
   "metadata": {},
   "outputs": [],
   "source": [
    "Random_grid={'bootstrap': [True, False],\n",
    " 'max_depth': [10, 20, 30, 40, 50, 60, 70, 80, 90, 100, None],\n",
    " 'max_features': [1,2,3,4,5,6],\n",
    " 'min_samples_leaf': [1, 2, 4],\n",
    " 'min_samples_split': [2, 5, 10],\n",
    " 'n_estimators': [200, 400, 600, 800, 1000, 1200, 1400, 1600, 1800, 2000]}"
   ]
  },
  {
   "cell_type": "code",
   "execution_count": 71,
   "metadata": {},
   "outputs": [
    {
     "name": "stdout",
     "output_type": "stream",
     "text": [
      "Fitting 10 folds for each of 100 candidates, totalling 1000 fits\n"
     ]
    },
    {
     "name": "stderr",
     "output_type": "stream",
     "text": [
      "[Parallel(n_jobs=-1)]: Using backend LokyBackend with 8 concurrent workers.\n",
      "[Parallel(n_jobs=-1)]: Done  34 tasks      | elapsed:    1.4s\n",
      "[Parallel(n_jobs=-1)]: Done 179 tasks      | elapsed:   22.9s\n",
      "[Parallel(n_jobs=-1)]: Done 382 tasks      | elapsed:  1.0min\n",
      "[Parallel(n_jobs=-1)]: Done 665 tasks      | elapsed:  1.9min\n",
      "[Parallel(n_jobs=-1)]: Done 1000 out of 1000 | elapsed:  3.1min finished\n",
      "C:\\Users\\Deepak\\Anaconda3\\lib\\site-packages\\sklearn\\model_selection\\_search.py:841: DeprecationWarning: The default of the `iid` parameter will change from True to False in version 0.22 and will be removed in 0.24. This will change numeric results when test-set sizes are unequal.\n",
      "  DeprecationWarning)\n"
     ]
    }
   ],
   "source": [
    "clf= RandomForestRegressor()\n",
    "random_grd_search=RandomizedSearchCV(estimator = clf, param_distributions = Random_grid, n_iter = 100, cv = 10, \n",
    "                              verbose=2, random_state=42, n_jobs = -1)\n",
    "random_grd_search.fit(X_train, training_scores_encoded)\n",
    "best_grid = random_grd_search.best_estimator_\n",
    "\n",
    "Y_pred=best_grid.predict(X_test)\n",
    "diff=np.absolute(y_test-Y_pred)\n",
    "MRE=diff/y_test\n",
    "MMRE=np.mean(MRE)\n",
    "MdMRE=np.median(MRE)\n",
    "P=MRE[MRE<.25]\n",
    "Pred=(P.size/MRE.size) * 100\n"
   ]
  },
  {
   "cell_type": "code",
   "execution_count": 72,
   "metadata": {},
   "outputs": [
    {
     "name": "stdout",
     "output_type": "stream",
     "text": [
      "0.49350352629607397\n",
      "0.46553164520495977\n",
      "25.0\n"
     ]
    }
   ],
   "source": [
    "print(MMRE)\n",
    "print(MdMRE)\n",
    "print(Pred)"
   ]
  },
  {
   "cell_type": "code",
   "execution_count": 73,
   "metadata": {},
   "outputs": [
    {
     "data": {
      "text/plain": [
       "{'n_estimators': 1200,\n",
       " 'min_samples_split': 10,\n",
       " 'min_samples_leaf': 4,\n",
       " 'max_features': 6,\n",
       " 'max_depth': 30,\n",
       " 'bootstrap': False}"
      ]
     },
     "execution_count": 73,
     "metadata": {},
     "output_type": "execute_result"
    }
   ],
   "source": [
    "random_grd_search.best_params_"
   ]
  },
  {
   "cell_type": "markdown",
   "metadata": {},
   "source": [
    "#  Regression Tree Analysis"
   ]
  },
  {
   "cell_type": "code",
   "execution_count": 80,
   "metadata": {},
   "outputs": [],
   "source": [
    "clf= DecisionTreeRegressor(max_depth=30, min_samples_split=20)\n",
    "clf.fit(X_train, y_train)\n",
    "Y_pred=clf.predict(X_test)\n",
    "diff=np.absolute(y_test-Y_pred)\n",
    "MRE=diff/y_test\n",
    "MMRE=np.mean(MRE)\n",
    "MdMRE=np.median(MRE)\n",
    "P=MRE[MRE<.25]\n",
    "Pred=(P.size/MRE.size) * 100"
   ]
  },
  {
   "cell_type": "code",
   "execution_count": 81,
   "metadata": {},
   "outputs": [
    {
     "name": "stdout",
     "output_type": "stream",
     "text": [
      "0.8405324382257534\n",
      "0.47200839204309997\n",
      "25.0\n"
     ]
    }
   ],
   "source": [
    "print(MMRE)\n",
    "print(MdMRE)\n",
    "print(Pred)"
   ]
  },
  {
   "cell_type": "code",
   "execution_count": null,
   "metadata": {},
   "outputs": [],
   "source": []
  }
 ],
 "metadata": {
  "kernelspec": {
   "display_name": "Python 3",
   "language": "python",
   "name": "python3"
  },
  "language_info": {
   "codemirror_mode": {
    "name": "ipython",
    "version": 3
   },
   "file_extension": ".py",
   "mimetype": "text/x-python",
   "name": "python",
   "nbconvert_exporter": "python",
   "pygments_lexer": "ipython3",
   "version": "3.8.5"
  }
 },
 "nbformat": 4,
 "nbformat_minor": 2
}
